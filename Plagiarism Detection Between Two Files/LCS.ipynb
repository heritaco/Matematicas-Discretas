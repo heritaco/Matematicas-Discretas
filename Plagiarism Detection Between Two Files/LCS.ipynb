{
 "cells": [
  {
   "cell_type": "code",
   "execution_count": 7,
   "metadata": {},
   "outputs": [],
   "source": [
    "from parameters import *\n",
    "\n",
    "# Function to find the longest common substring\n",
    "def find_longest_common_substring(s1, s2, min_length):\n",
    "    m, n = len(s1), len(s2)\n",
    "    M =  [[0]*(n+1) for _ in range(m+1)]\n",
    "    length, end = 0, 0\n",
    "    for i in range(1, m+1):\n",
    "        for j in range(1, n+1):\n",
    "            if s1[i-1] == s2[j-1]:\n",
    "                M[i][j] = M[i-1][j-1] + 1\n",
    "                if M[i][j] > length:\n",
    "                    length = M[i][j]\n",
    "                    end = i - 1\n",
    "    if length >= min_length:\n",
    "        return s1[end-length+1:end+1]\n",
    "    else:\n",
    "        return ''"
   ]
  },
  {
   "cell_type": "code",
   "execution_count": 6,
   "metadata": {},
   "outputs": [
    {
     "name": "stdout",
     "output_type": "stream",
     "text": [
      "Texto(s) idéntico(s):\n",
      "1.  this is second plagiarism text (24.8%)\n",
      "2.  this is first plagiarism text (24.0%)\n"
     ]
    }
   ],
   "source": [
    "# Function to read a file\n",
    "def read_file(file):\n",
    "    with open(file, 'r', encoding = \"utf-8\") as f:\n",
    "        return f.read()\n",
    "\n",
    "# Function to find all longest common substrings\n",
    "def find_all_longest_common_substrings(file1, file2, min_length):\n",
    "    s1 = read_file(file1)\n",
    "    s2 = read_file(file2)\n",
    "    original_len_s1 = len(s1)  # Store the original length of s1\n",
    "    substrings, total_len = [], 0\n",
    "    while True:\n",
    "        lcs = find_longest_common_substring(s1, s2, min_length)\n",
    "        if not lcs: break\n",
    "        substrings.append((lcs, len(lcs) / original_len_s1))  # Use original_len_s1 here\n",
    "        total_len += len(lcs)\n",
    "        s1 = s1.replace(lcs, '')\n",
    "        s2 = s2.replace(lcs, '')\n",
    "    return substrings, total_len / original_len_s1  # Use original_len_s1 here\n",
    "\n",
    "strings, percentage = find_all_longest_common_substrings(file1, file2, min_length)\n",
    "\n",
    "print('Texto(s) idéntico(s):')\n",
    "for i, (lcs, ratio) in enumerate(strings):\n",
    "    print(f'{i+1}. {lcs} ({ratio:.1%})')"
   ]
  },
  {
   "cell_type": "code",
   "execution_count": 5,
   "metadata": {},
   "outputs": [
    {
     "name": "stdout",
     "output_type": "stream",
     "text": [
      "Identical text(s):\n",
      "1.  this is second plagiarism text (24.8%)\n",
      "2.  this is first plagiarism text (24.0%)\n",
      "Percentage of identical text: 48.8%\n"
     ]
    }
   ],
   "source": [
    "print('Identical text(s):')\n",
    "for i, (lcs, ratio) in enumerate(strings):\n",
    "    print(f'{i+1}. {lcs} ({ratio:.1%})')\n",
    "\n",
    "print(f'Percentage of identical text: {percentage:.1%}')"
   ]
  }
 ],
 "metadata": {
  "kernelspec": {
   "display_name": "Python 3",
   "language": "python",
   "name": "python3"
  },
  "language_info": {
   "codemirror_mode": {
    "name": "ipython",
    "version": 3
   },
   "file_extension": ".py",
   "mimetype": "text/x-python",
   "name": "python",
   "nbconvert_exporter": "python",
   "pygments_lexer": "ipython3",
   "version": "3.12.1"
  }
 },
 "nbformat": 4,
 "nbformat_minor": 2
}
