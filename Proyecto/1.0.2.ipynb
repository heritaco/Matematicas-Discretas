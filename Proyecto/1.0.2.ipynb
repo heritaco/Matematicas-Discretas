{
 "cells": [
  {
   "cell_type": "code",
   "execution_count": 10,
   "metadata": {},
   "outputs": [
    {
     "data": {
      "text/plain": [
       "[[0, 0, 0, 0, 0], [0, 0, 0, 0, 0], [0, 0, 0, 0, 0], [0, 0, 0, 0, 0]]"
      ]
     },
     "execution_count": 10,
     "metadata": {},
     "output_type": "execute_result"
    }
   ],
   "source": [
    "from parameters import *\n",
    "\n",
    "# Function to initialize the matrix used for dynamic programming\n",
    "def initialize_matrix(m, n):\n",
    "    return [[0]*(n+1) for _ in range(m+1)]\n",
    "\n",
    "initialize_matrix(3, 4)"
   ]
  },
  {
   "cell_type": "markdown",
   "metadata": {},
   "source": [
    "\n",
    "This Python code defines a function called initialize_matrix that takes two parameters, m and n. It returns a matrix initialized with zeros, where the number of rows is m+1 and the number of columns is n+1.\n",
    "\n",
    "In the context of the complete code provided, the matrices are initialized with dimensions (m+1) x (n+1) to allow for indexing starting from 1 rather than 0. This adjustment aligns with how the dynamic programming algorithm for finding the longest common substring is implemented."
   ]
  },
  {
   "cell_type": "code",
   "execution_count": 6,
   "metadata": {},
   "outputs": [
    {
     "data": {
      "text/plain": [
       "([[0, 0, 0, 0], [0, 0, 0, 0], [0, 0, 0, 0], [0, 0, 0, 0]], 0, 0)"
      ]
     },
     "execution_count": 6,
     "metadata": {},
     "output_type": "execute_result"
    }
   ],
   "source": [
    "# Function to update the matrix and longest common substring information\n",
    "def update_matrix_and_lcs_info(M, s1, s2, i, j, length, end):\n",
    "    if s1[i-1] == s2[j-1]:\n",
    "        M[i][j] = M[i-1][j-1] + 1\n",
    "        if M[i][j] > length:\n",
    "            length = M[i][j]\n",
    "            end = i - 1\n",
    "    return M, length, end\n",
    "\n",
    "update_matrix_and_lcs_info([[0, 0, 0, 0], [0, 0, 0, 0], [0, 0, 0, 0], [0, 0, 0, 0]], \"ABCD\", \"ABDC\", 3, 3, 0, 0)"
   ]
  },
  {
   "cell_type": "code",
   "execution_count": 7,
   "metadata": {},
   "outputs": [
    {
     "data": {
      "text/plain": [
       "'AB'"
      ]
     },
     "execution_count": 7,
     "metadata": {},
     "output_type": "execute_result"
    }
   ],
   "source": [
    "# Function to find the longest common substring\n",
    "def find_longest_common_substring(s1, s2, min_length):\n",
    "    m, n = len(s1), len(s2)\n",
    "    M = initialize_matrix(m, n)\n",
    "    length, end = 0, 0\n",
    "    for i in range(1, m+1):\n",
    "        for j in range(1, n+1):\n",
    "            M, length, end = update_matrix_and_lcs_info(M, s1, s2, i, j, length, end)\n",
    "    if length >= min_length:\n",
    "        return s1[end-length+1:end+1]\n",
    "    else:\n",
    "        return ''\n",
    "    \n",
    "find_longest_common_substring(\"ABCD\", \"ABDC\", 2)"
   ]
  },
  {
   "cell_type": "code",
   "execution_count": 9,
   "metadata": {},
   "outputs": [],
   "source": [
    "# Function to read a file\n",
    "def read_file(file):\n",
    "    with open(file, 'r', encoding = \"utf-8\") as f:\n",
    "        return f.read()"
   ]
  },
  {
   "cell_type": "code",
   "execution_count": null,
   "metadata": {},
   "outputs": [],
   "source": [
    "# Function to find and remove the longest common substring\n",
    "def find_and_remove_lcs(s1, s2, min_length):\n",
    "    lcs = find_longest_common_substring(s1, s2, min_length)\n",
    "    s1 = s1.replace(lcs, '')\n",
    "    s2 = s2.replace(lcs, '')\n",
    "    return lcs, s1, s2"
   ]
  },
  {
   "cell_type": "code",
   "execution_count": null,
   "metadata": {},
   "outputs": [],
   "source": [
    "# Function to find the n longest common substrings\n",
    "def find_n_longest_common_substrings(file1, file2, number_of_lcs, min_length):\n",
    "    s1 = read_file(file1)\n",
    "    s2 = read_file(file2)\n",
    "    original_len_s1 = len(s1)  # Store the original length of s1\n",
    "    substrings, total_len = [], 0\n",
    "    for _ in range(number_of_lcs):\n",
    "        lcs, s1, s2 = find_and_remove_lcs(s1, s2, min_length)\n",
    "        if not lcs: break\n",
    "        substrings.append((lcs, len(lcs) / original_len_s1))  # Use original_len_s1 here\n",
    "        total_len += len(lcs)\n",
    "    return substrings, total_len / original_len_s1  # Use original_len_s1 here"
   ]
  },
  {
   "cell_type": "code",
   "execution_count": null,
   "metadata": {},
   "outputs": [],
   "source": [
    "def print_results(strings, percentage):\n",
    "    print('Longest common substrings:')\n",
    "    for i, (lcs, ratio) in enumerate(strings):\n",
    "        print(f'{i+1}. {lcs} ({ratio:.1%})')\n",
    "    print(f'Plagiarism percentages: {percentage:.1%}')"
   ]
  },
  {
   "cell_type": "code",
   "execution_count": null,
   "metadata": {},
   "outputs": [],
   "source": [
    "strings, percentage = find_n_longest_common_substrings(file1, file2, number_of_lcs, min_length)\n",
    "print_results(strings, percentage)"
   ]
  }
 ],
 "metadata": {
  "kernelspec": {
   "display_name": "Python 3",
   "language": "python",
   "name": "python3"
  },
  "language_info": {
   "codemirror_mode": {
    "name": "ipython",
    "version": 3
   },
   "file_extension": ".py",
   "mimetype": "text/x-python",
   "name": "python",
   "nbconvert_exporter": "python",
   "pygments_lexer": "ipython3",
   "version": "3.12.1"
  }
 },
 "nbformat": 4,
 "nbformat_minor": 2
}
