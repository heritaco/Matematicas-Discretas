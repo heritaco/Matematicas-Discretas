{
 "cells": [
  {
   "cell_type": "code",
   "execution_count": 2,
   "metadata": {},
   "outputs": [
    {
     "name": "stdout",
     "output_type": "stream",
     "text": [
      "Longest common substrings:\n",
      "1. : qué es y cómo te ayuda esta plataforma a gestionar tus notas\n",
      "En esta artículo te hablo de Obsidian, una herramienta para gestionar notas y proyectos que te interesa conocer.\n",
      "Edgar Otero15 octubre, 2023 4 minutos de lectura aproximada.\n",
      "En este artículo voy a hablarte sobre Obsidian, una completa aplicación de notas que puedes usar en tu ordenador, móvil o tableta para organizar tus ideas, guardar elementos, crear bosquejos y mucho más. Se trata de una herramienta con infinidad de funciones que merece la pena conocer.\n",
      "\n",
      "Los apartados que incluyo en esta guía tienen como objetivo explicarte qué es Obsidian, qué ventajas tiene y cómo puedes sacarle todo el partido para gestionar tus notas. También te aclaro algunos conceptos clave para que entiendas cómo funciona exactamente esta aplicación.\n",
      "\n",
      "Índice de contenidos\n",
      "\n",
      " (55.7%)\n",
      "2. ¿Qué es Obsidian y para qué sirve?\n",
      "Unas breves palabras sobre Markdown\n",
      "Ventajas de usar Obsidian para organizarte\n",
      "Aplicación gratuita\n",
      "Uso de formatos estandarizados\n",
      "Ampliación de funciones con extensiones\n",
      "Personalización del entorno\n",
      "Herramienta multiplataforma\n",
      "¿Merece la pena Obsidian?\n",
      "¿Qué es Obsidian y para qué sirve?\n",
      "Obsidian es una versátil herramienta de gestión de notas que ha ganado popularidad en los últimos años. Se trata de un software diseñado para ayudar a las personas a organizar, conectar y desarrollar sus ideas de manera eficiente. (37.4%)\n",
      "3. \n",
      "Menú\n",
      "Profesional Review\n",
      "Switch skin\n",
      " Inicio/Tutoriales\n",
      "SoftwareTutoriales\n",
      "Obsidian (5.6%)\n",
      "Plagiarism percentages: 98.7%\n"
     ]
    }
   ],
   "source": [
    "from parameters import *\n",
    "\n",
    "# Function to find the longest common substring\n",
    "def find_longest_common_substring(s1, s2, min_length):\n",
    "    m, n = len(s1), len(s2)\n",
    "    M =  [[0]*(n+1) for _ in range(m+1)]\n",
    "    length, end = 0, 0\n",
    "    for i in range(1, m+1):\n",
    "        for j in range(1, n+1):\n",
    "            if s1[i-1] == s2[j-1]:\n",
    "                M[i][j] = M[i-1][j-1] + 1\n",
    "                if M[i][j] > length:\n",
    "                    length = M[i][j]\n",
    "                    end = i - 1\n",
    "    if length >= min_length:\n",
    "        return s1[end-length+1:end+1]\n",
    "    else:\n",
    "        return ''\n",
    "\n",
    "# Function to read a file\n",
    "def read_file(file):\n",
    "    with open(file, 'r', encoding = \"utf-8\") as f:\n",
    "        return f.read()\n",
    "\n",
    "# Function to find the n longest common substrings\n",
    "def find_n_longest_common_substrings(file1, file2, number_of_lcs, min_length):\n",
    "    s1 = read_file(file1)\n",
    "    s2 = read_file(file2)\n",
    "    original_len_s1 = len(s1)  # Store the original length of s1\n",
    "    substrings, total_len = [], 0\n",
    "    for _ in range(number_of_lcs):\n",
    "        lcs = find_longest_common_substring(s1, s2, min_length)\n",
    "        if not lcs: break\n",
    "        substrings.append((lcs, len(lcs) / original_len_s1))  # Use original_len_s1 here\n",
    "        total_len += len(lcs)\n",
    "        s1 = s1.replace(lcs, '')\n",
    "        s2 = s2.replace(lcs, '')\n",
    "    return substrings, total_len / original_len_s1  # Use original_len_s1 here\n",
    "\n",
    "strings, percentage = find_n_longest_common_substrings(file1, file2, number_of_lcs, min_length)\n",
    "\n",
    "print('Longest common substrings:')\n",
    "for i, (lcs, ratio) in enumerate(strings):\n",
    "    print(f'{i+1}. {lcs} ({ratio:.1%})')\n",
    "\n",
    "print(f'Plagiarism percentages: {percentage:.1%}')"
   ]
  }
 ],
 "metadata": {
  "kernelspec": {
   "display_name": "Python 3",
   "language": "python",
   "name": "python3"
  },
  "language_info": {
   "codemirror_mode": {
    "name": "ipython",
    "version": 3
   },
   "file_extension": ".py",
   "mimetype": "text/x-python",
   "name": "python",
   "nbconvert_exporter": "python",
   "pygments_lexer": "ipython3",
   "version": "3.12.1"
  }
 },
 "nbformat": 4,
 "nbformat_minor": 2
}
