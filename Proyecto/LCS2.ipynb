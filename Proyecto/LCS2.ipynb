{
 "cells": [
  {
   "cell_type": "code",
   "execution_count": 1,
   "metadata": {},
   "outputs": [
    {
     "name": "stdout",
     "output_type": "stream",
     "text": [
      "([('por ejemplo si hago eso, ', 0.6097560975609756), ('es plagio', 0.5625), (' no', 0.42857142857142855)], 0.925)\n"
     ]
    }
   ],
   "source": [
    "def find_longest_common_substring(s1, s2):\n",
    "    m, n = len(s1), len(s2)\n",
    "    dp = [[0]*(n+1) for _ in range(m+1)]\n",
    "    length, end = 0, 0\n",
    "    for i in range(1, m+1):\n",
    "        for j in range(1, n+1):\n",
    "            if s1[i-1] == s2[j-1]:\n",
    "                dp[i][j] = dp[i-1][j-1] + 1\n",
    "                if dp[i][j] > length:\n",
    "                    length = dp[i][j]\n",
    "                    end = i - 1\n",
    "    return s1[end-length+1:end+1]\n",
    "\n",
    "def find_n_longest_common_substrings(s1, s2, n):\n",
    "    substrings, total_len = [], 0\n",
    "    for _ in range(n):\n",
    "        lcs = find_longest_common_substring(s1, s2)\n",
    "        if not lcs: break\n",
    "        substrings.append((lcs, len(lcs) / len(s1)))\n",
    "        total_len += len(lcs)\n",
    "        s1 = s1.replace(lcs, '')\n",
    "        s2 = s2.replace(lcs, '')\n",
    "    return substrings, total_len / len(s1)/ 10 \n",
    "\n",
    "s1 = \"por ejemplo si hago eso, ya no, es plagio\"\n",
    "s2 = \"por ejemplo si hago eso, es plagio, no\"\n",
    "print(find_n_longest_common_substrings(s1, s2, 3))"
   ]
  }
 ],
 "metadata": {
  "kernelspec": {
   "display_name": "Python 3",
   "language": "python",
   "name": "python3"
  },
  "language_info": {
   "codemirror_mode": {
    "name": "ipython",
    "version": 3
   },
   "file_extension": ".py",
   "mimetype": "text/x-python",
   "name": "python",
   "nbconvert_exporter": "python",
   "pygments_lexer": "ipython3",
   "version": "3.12.1"
  }
 },
 "nbformat": 4,
 "nbformat_minor": 2
}
