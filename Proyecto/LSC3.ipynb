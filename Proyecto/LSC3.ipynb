{
 "cells": [
  {
   "cell_type": "code",
   "execution_count": 6,
   "metadata": {},
   "outputs": [
    {
     "name": "stdout",
     "output_type": "stream",
     "text": [
      "([('aaaaaaaaaaaaaaaaaaalkjfhdsa', 1.0)], 1.0)\n"
     ]
    }
   ],
   "source": [
    "def find_longest_common_substring(s1, s2):\n",
    "    m, n = len(s1), len(s2)\n",
    "    dp = [[0]*(n+1) for _ in range(m+1)]\n",
    "    length, end = 0, 0\n",
    "    for i in range(1, m+1):\n",
    "        for j in range(1, n+1):\n",
    "            if s1[i-1] == s2[j-1]:\n",
    "                dp[i][j] = dp[i-1][j-1] + 1\n",
    "                if dp[i][j] > length:\n",
    "                    length = dp[i][j]\n",
    "                    end = i - 1\n",
    "    return s1[end-length+1:end+1]\n",
    "\n",
    "def find_n_longest_common_substrings(file1, file2, n):\n",
    "    with open(file1, 'r') as f:\n",
    "        s1 = f.read()\n",
    "    with open(file2, 'r') as f:\n",
    "        s2 = f.read()\n",
    "    substrings, total_len = [], 0\n",
    "    original_len = len(s1) # if not, and if the files are the same, there will be a division by zero \n",
    "    for _ in range(n):\n",
    "        lcs = find_longest_common_substring(s1, s2)\n",
    "        if not lcs: break\n",
    "        substrings.append((lcs, len(lcs) / original_len))\n",
    "        total_len += len(lcs)\n",
    "        s1 = s1.replace(lcs, '')\n",
    "        s2 = s2.replace(lcs, '')\n",
    "    return substrings, total_len / original_len if original_len else 0\n",
    "\n",
    "file1 = \"file1.txt\"\n",
    "file2 = \"file2.txt\"\n",
    "print(find_n_longest_common_substrings(file1, file2, 3))"
   ]
  }
 ],
 "metadata": {
  "kernelspec": {
   "display_name": "Python 3",
   "language": "python",
   "name": "python3"
  },
  "language_info": {
   "codemirror_mode": {
    "name": "ipython",
    "version": 3
   },
   "file_extension": ".py",
   "mimetype": "text/x-python",
   "name": "python",
   "nbconvert_exporter": "python",
   "pygments_lexer": "ipython3",
   "version": "3.12.1"
  }
 },
 "nbformat": 4,
 "nbformat_minor": 2
}
